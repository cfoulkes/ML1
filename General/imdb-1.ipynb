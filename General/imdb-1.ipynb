{
 "metadata": {
  "language_info": {
   "codemirror_mode": {
    "name": "ipython",
    "version": 3
   },
   "file_extension": ".py",
   "mimetype": "text/x-python",
   "name": "python",
   "nbconvert_exporter": "python",
   "pygments_lexer": "ipython3",
   "version": "3.7.4-final"
  },
  "orig_nbformat": 2,
  "kernelspec": {
   "name": "python3",
   "display_name": "Python 3",
   "language": "python"
  }
 },
 "nbformat": 4,
 "nbformat_minor": 2,
 "cells": [
  {
   "cell_type": "code",
   "execution_count": 6,
   "metadata": {},
   "outputs": [
    {
     "output_type": "stream",
     "name": "stdout",
     "text": [
      "(25000,)\n(25000,)\n"
     ]
    }
   ],
   "source": [
    "from keras.datasets import imdb\n",
    "\n",
    "(train_data, train_labels), (test_data, test_labels) = imdb.load_data(num_words=10000)\n",
    "print (train_data.shape)\n",
    "print (train_labels.shape)"
   ]
  },
  {
   "cell_type": "code",
   "execution_count": 7,
   "metadata": {},
   "outputs": [
    {
     "output_type": "stream",
     "name": "stdout",
     "text": [
      "[1, 14, 22, 16, 43, 530, 973, 1622, 1385, 65, 458, 4468, 66, 3941, 4, 173, 36, 256, 5, 25, 100, 43, 838, 112, 50, 670, 2, 9, 35, 480, 284, 5, 150, 4, 172, 112, 167, 2, 336, 385, 39, 4, 172, 4536, 1111, 17, 546, 38, 13, 447, 4, 192, 50, 16, 6, 147, 2025, 19, 14, 22, 4, 1920, 4613, 469, 4, 22, 71, 87, 12, 16, 43, 530, 38, 76, 15, 13, 1247, 4, 22, 17, 515, 17, 12, 16, 626, 18, 2, 5, 62, 386, 12, 8, 316, 8, 106, 5, 4, 2223, 5244, 16, 480, 66, 3785, 33, 4, 130, 12, 16, 38, 619, 5, 25, 124, 51, 36, 135, 48, 25, 1415, 33, 6, 22, 12, 215, 28, 77, 52, 5, 14, 407, 16, 82, 2, 8, 4, 107, 117, 5952, 15, 256, 4, 2, 7, 3766, 5, 723, 36, 71, 43, 530, 476, 26, 400, 317, 46, 7, 4, 2, 1029, 13, 104, 88, 4, 381, 15, 297, 98, 32, 2071, 56, 26, 141, 6, 194, 7486, 18, 4, 226, 22, 21, 134, 476, 26, 480, 5, 144, 30, 5535, 18, 51, 36, 28, 224, 92, 25, 104, 4, 226, 65, 16, 38, 1334, 88, 12, 16, 283, 5, 16, 4472, 113, 103, 32, 15, 16, 5345, 19, 178, 32]\n1\n"
     ]
    }
   ],
   "source": [
    "print(train_data[0])\n",
    "print(train_labels[0])"
   ]
  },
  {
   "cell_type": "code",
   "execution_count": 9,
   "metadata": {},
   "outputs": [
    {
     "output_type": "execute_result",
     "data": {
      "text/plain": [
       "9999"
      ]
     },
     "metadata": {},
     "execution_count": 9
    }
   ],
   "source": [
    "max([max(sequence) for sequence in train_data])"
   ]
  },
  {
   "cell_type": "code",
   "execution_count": 12,
   "metadata": {},
   "outputs": [
    {
     "output_type": "execute_result",
     "data": {
      "text/plain": [
       "\"? i suppose it's nice and trendy to see wonderful things in the absolute ? of a film like this with the sometimes pointless ? of many hollywood films we can relax and enjoy a scene devoid of explosions foul language and corny one liners ? has its place and can be very effective when employed properly however this film is not one of those cases br br take the long scenes with no dialogue and dreary sparse scenery i'm sure that they must hold some great meaning and insight because the implied message in ? in ? the acting is poor bland and pedestrian and features one of the worst crying scenes in history at the end of the film if you can sit through it to the end the scenery is drab and the ridiculously long ending sequence of the girl walking through the ? park is as ? as having a tooth pulled i would call this ? but as the film didn't build to any sort of climax whatsoever not even in the erotic scenes it would be untrue i'm sure that there was a script employed during the filming but with the amount of dialogue i think it might have been written on a cocktail ? basically this film offers nothing to interest or ? no great story no stunning insights no visual drama no excitement apart from two or three amusing moments this film is a waste of two hours a ? boring and dreary film\""
      ]
     },
     "metadata": {},
     "execution_count": 12
    }
   ],
   "source": [
    "word_index = imdb.get_word_index()\n",
    "reverse_word_index = dict(\n",
    "    [(value,key) for (key,value) in word_index.items()]\n",
    ")\n",
    "decoded_review = ' '.join(\n",
    "    [reverse_word_index.get(i-3, '?') for i in train_data[12000]]\n",
    ")\n",
    "decoded_review"
   ]
  },
  {
   "cell_type": "code",
   "execution_count": 19,
   "metadata": {},
   "outputs": [
    {
     "output_type": "stream",
     "name": "stdout",
     "text": [
      "(25000, 10000)\n(25000, 10000)\n[0. 1. 1. ... 0. 0. 0.]\n(25000,)\n(25000,)\n1.0\n"
     ]
    }
   ],
   "source": [
    "# encode sequences into binary matrix (1 on for word found in review)\n",
    "import numpy as np\n",
    "def vectorize_sequences(sequences, dimension=10000):\n",
    "    results = np.zeros((len(sequences), dimension))\n",
    "    for i, sequence in enumerate(sequences):\n",
    "        results[i, sequence] = 1.\n",
    "    return results\n",
    "\n",
    "x_train = vectorize_sequences(train_data)\n",
    "x_test = vectorize_sequences(test_data)\n",
    "\n",
    "print(x_train.shape)\n",
    "print(x_test.shape)\n",
    "print(x_train[0])\n",
    "\n",
    "y_train = np.asarray(train_labels).astype('float32')\n",
    "y_test = np.asarray(test_labels).astype('float32')\n",
    "\n",
    "print(y_train.shape)\n",
    "print(y_test.shape)\n",
    "print(y_train[0])\n"
   ]
  },
  {
   "cell_type": "code",
   "execution_count": 20,
   "metadata": {},
   "outputs": [],
   "source": [
    "# model\n",
    "from keras import models\n",
    "from keras import layers\n",
    "\n",
    "model = models.Sequential()\n",
    "model.add(layers.Dense(16, activation='relu', input_shape=(10000,)))\n",
    "model.add(layers.Dense(16, activation='relu'))\n",
    "model.add(layers.Dense(1, activation='sigmoid'))\n",
    "\n"
   ]
  },
  {
   "cell_type": "code",
   "execution_count": 27,
   "metadata": {},
   "outputs": [],
   "source": [
    "model.compile(optimizer='rmsprop', loss='binary_crossentropy', metrics=['accuracy'])"
   ]
  },
  {
   "cell_type": "code",
   "execution_count": 28,
   "metadata": {},
   "outputs": [],
   "source": [
    "# validation set\n",
    "x_val = x_train[:10000]\n",
    "partial_x_train = x_train[10000:]\n",
    "y_val = y_train[:10000]\n",
    "partial_y_train = y_train[10000:]\n"
   ]
  },
  {
   "cell_type": "code",
   "execution_count": 29,
   "metadata": {},
   "outputs": [
    {
     "output_type": "stream",
     "name": "stdout",
     "text": [
      "Train on 15000 samples, validate on 10000 samples\n",
      "Epoch 1/20\n",
      "15000/15000 [==============================] - 6s 391us/step - loss: 0.5072 - accuracy: 0.7819 - val_loss: 0.3770 - val_accuracy: 0.8722\n",
      "Epoch 2/20\n",
      "15000/15000 [==============================] - 3s 177us/step - loss: 0.2973 - accuracy: 0.9042 - val_loss: 0.3245 - val_accuracy: 0.8692\n",
      "Epoch 3/20\n",
      "15000/15000 [==============================] - 2s 138us/step - loss: 0.2182 - accuracy: 0.9277 - val_loss: 0.2854 - val_accuracy: 0.8870\n",
      "Epoch 4/20\n",
      "15000/15000 [==============================] - 2s 152us/step - loss: 0.1751 - accuracy: 0.9411 - val_loss: 0.2735 - val_accuracy: 0.8920\n",
      "Epoch 5/20\n",
      "15000/15000 [==============================] - 2s 160us/step - loss: 0.1425 - accuracy: 0.9549 - val_loss: 0.2842 - val_accuracy: 0.8866\n",
      "Epoch 6/20\n",
      "15000/15000 [==============================] - 2s 149us/step - loss: 0.1194 - accuracy: 0.9626 - val_loss: 0.2966 - val_accuracy: 0.8846\n",
      "Epoch 7/20\n",
      "15000/15000 [==============================] - 2s 151us/step - loss: 0.0970 - accuracy: 0.9709 - val_loss: 0.3166 - val_accuracy: 0.8822\n",
      "Epoch 8/20\n",
      "15000/15000 [==============================] - 2s 154us/step - loss: 0.0812 - accuracy: 0.9767 - val_loss: 0.3321 - val_accuracy: 0.8812\n",
      "Epoch 9/20\n",
      "15000/15000 [==============================] - 2s 156us/step - loss: 0.0657 - accuracy: 0.9823 - val_loss: 0.3597 - val_accuracy: 0.8795\n",
      "Epoch 10/20\n",
      "15000/15000 [==============================] - 2s 148us/step - loss: 0.0559 - accuracy: 0.9850 - val_loss: 0.3882 - val_accuracy: 0.8757\n",
      "Epoch 11/20\n",
      "15000/15000 [==============================] - 3s 188us/step - loss: 0.0436 - accuracy: 0.9899 - val_loss: 0.4212 - val_accuracy: 0.8723\n",
      "Epoch 12/20\n",
      "15000/15000 [==============================] - 2s 164us/step - loss: 0.0364 - accuracy: 0.9914 - val_loss: 0.4476 - val_accuracy: 0.8725\n",
      "Epoch 13/20\n",
      "15000/15000 [==============================] - 3s 169us/step - loss: 0.0285 - accuracy: 0.9942 - val_loss: 0.4691 - val_accuracy: 0.8721\n",
      "Epoch 14/20\n",
      "15000/15000 [==============================] - 2s 146us/step - loss: 0.0209 - accuracy: 0.9974 - val_loss: 0.5097 - val_accuracy: 0.8717\n",
      "Epoch 15/20\n",
      "15000/15000 [==============================] - 3s 170us/step - loss: 0.0183 - accuracy: 0.9974 - val_loss: 0.5501 - val_accuracy: 0.8695\n",
      "Epoch 16/20\n",
      "15000/15000 [==============================] - 2s 132us/step - loss: 0.0147 - accuracy: 0.9973 - val_loss: 0.5875 - val_accuracy: 0.8681\n",
      "Epoch 17/20\n",
      "15000/15000 [==============================] - 2s 145us/step - loss: 0.0135 - accuracy: 0.9979 - val_loss: 0.6154 - val_accuracy: 0.8673\n",
      "Epoch 18/20\n",
      "15000/15000 [==============================] - 3s 174us/step - loss: 0.0066 - accuracy: 0.9998 - val_loss: 0.6481 - val_accuracy: 0.8662\n",
      "Epoch 19/20\n",
      "15000/15000 [==============================] - 2s 149us/step - loss: 0.0093 - accuracy: 0.9982 - val_loss: 0.6883 - val_accuracy: 0.8649\n",
      "Epoch 20/20\n",
      "15000/15000 [==============================] - 2s 147us/step - loss: 0.0039 - accuracy: 0.9998 - val_loss: 0.7360 - val_accuracy: 0.8642\n"
     ]
    }
   ],
   "source": [
    "history = model.fit(partial_x_train, partial_y_train, epochs=20, batch_size=512, validation_data=(x_val, y_val))\n"
   ]
  },
  {
   "cell_type": "code",
   "execution_count": 30,
   "metadata": {},
   "outputs": [
    {
     "output_type": "execute_result",
     "data": {
      "text/plain": [
       "dict_keys(['val_loss', 'val_accuracy', 'loss', 'accuracy'])"
      ]
     },
     "metadata": {},
     "execution_count": 30
    }
   ],
   "source": [
    "history_dict = history.history\n",
    "history_dict.keys()"
   ]
  },
  {
   "cell_type": "code",
   "execution_count": 33,
   "metadata": {},
   "outputs": [
    {
     "output_type": "display_data",
     "data": {
      "text/plain": "<Figure size 432x288 with 1 Axes>",
      "image/png": "[encoded data removed]"
     },
     "metadata": {
      "needs_background": "light"
     }
    }
   ],
   "source": [
    "import matplotlib.pyplot as plt\n",
    "%matplotlib inline\n",
    "\n",
    "loss_values = history_dict['loss']\n",
    "val_loss_values = history_dict['val_loss']\n",
    "\n",
    "epochs = range(1, len(loss_values) + 1)\n",
    "\n",
    "plt.plot(epochs, loss_values, 'bo', label='Training loss')\n",
    "plt.plot(epochs, val_loss_values, 'b', label='Validation loss')\n",
    "plt.title('Training and validation loss')\n",
    "plt.xlabel('Epochs')\n",
    "plt.ylabel('Loss')\n",
    "plt.legend()\n",
    "plt.show()\n"
   ]
  },
  {
   "cell_type": "code",
   "execution_count": 34,
   "metadata": {},
   "outputs": [
    {
     "output_type": "display_data",
     "data": {
      "text/plain": "<Figure size 432x288 with 1 Axes>",
      "image/png": "[encoded data removed]"
     },
     "metadata": {
      "needs_background": "light"
     }
    }
   ],
   "source": [
    "plt.clf()\n",
    "\n",
    "accuracy_values = history_dict['accuracy']\n",
    "val_accuracy_values = history_dict['val_accuracy']\n",
    "\n",
    "plt.plot(epochs, accuracy_values, 'bo', label='Training accuracy')\n",
    "plt.plot(epochs, val_accuracy_values, 'b', label='Validation accuracy')\n",
    "plt.title('Training and validation accuracy')\n",
    "plt.xlabel('Epochs')\n",
    "plt.ylabel('Accuracy')\n",
    "plt.legend()\n",
    "plt.show()\n",
    "\n"
   ]
  },
  {
   "cell_type": "code",
   "execution_count": 35,
   "metadata": {},
   "outputs": [
    {
     "output_type": "stream",
     "name": "stdout",
     "text": [
      "Train on 15000 samples, validate on 10000 samples\n",
      "Epoch 1/4\n",
      "15000/15000 [==============================] - 7s 447us/step - loss: 0.0087 - accuracy: 0.9980 - val_loss: 0.7640 - val_accuracy: 0.8642\n",
      "Epoch 2/4\n",
      "15000/15000 [==============================] - 3s 173us/step - loss: 0.0021 - accuracy: 0.9999 - val_loss: 0.7856 - val_accuracy: 0.8643\n",
      "Epoch 3/4\n",
      "15000/15000 [==============================] - 3s 169us/step - loss: 0.0035 - accuracy: 0.9992 - val_loss: 0.8394 - val_accuracy: 0.8619\n",
      "Epoch 4/4\n",
      "15000/15000 [==============================] - 3s 186us/step - loss: 0.0014 - accuracy: 0.9999 - val_loss: 0.8549 - val_accuracy: 0.8634\n"
     ]
    }
   ],
   "source": [
    "# peak accuracy around 4 epochs\n",
    "\n",
    "history = model.fit(partial_x_train, partial_y_train, epochs=4, batch_size=512, validation_data=(x_val, y_val))\n",
    "\n"
   ]
  },
  {
   "cell_type": "code",
   "execution_count": 40,
   "metadata": {},
   "outputs": [
    {
     "output_type": "stream",
     "name": "stdout",
     "text": [
      "25000/25000 [==============================] - 3s 129us/step\n",
      "[0.9405657851290703, 0.8469600081443787]\n",
      "['loss', 'accuracy']\n"
     ]
    }
   ],
   "source": [
    "# evaluate against test\n",
    "\n",
    "results = model.evaluate(x_test, y_test)\n",
    "print(results)\n",
    "print(model.metrics_names)"
   ]
  },
  {
   "cell_type": "code",
   "execution_count": null,
   "metadata": {},
   "outputs": [],
   "source": []
  }
 ]
}